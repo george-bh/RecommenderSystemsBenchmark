{
 "cells": [
  {
   "cell_type": "code",
   "execution_count": 2,
   "metadata": {},
   "outputs": [],
   "source": [
    "import pandas as pd\n",
    "import numpy as np\n",
    "import matplotlib.pyplot as plt\n",
    "from surprise import NormalPredictor, BaselineOnly, KNNBasic, KNNWithMeans, KNNWithZScore, KNNBaseline\n",
    "from surprise import SVD, SVDpp, NMF, SlopeOne \n",
    "from surprise import Dataset\n",
    "from surprise.model_selection import cross_validate"
   ]
  },
  {
   "cell_type": "markdown",
   "metadata": {},
   "source": [
    "# RMSE (Root-mean-square deviation) for Matrix Factorization-Based Algorithms\n"
   ]
  },
  {
   "cell_type": "code",
   "execution_count": 67,
   "metadata": {},
   "outputs": [
    {
     "data": {
      "image/png": "[encoded data removed]",
      "text/plain": [
       "<Figure size 432x288 with 1 Axes>"
      ]
     },
     "metadata": {
      "needs_background": "light"
     },
     "output_type": "display_data"
    }
   ],
   "source": [
    "data = Dataset.load_builtin('ml-100k')\n",
    "benchmark = []\n",
    "for algorithm in [SVD(), SVDpp(), NMF(), SlopeOne()]:\n",
    "    results = cross_validate(algorithm, data, measures=['RMSE'], cv=2, verbose=False)\n",
    "    tmp = pd.DataFrame.from_dict(results).mean(axis=0)\n",
    "    tmp = tmp.append(pd.Series([str(algorithm).split(' ')[0].split('.')[-1]], index=['Algorithm']))\n",
    "    benchmark.append(tmp)\n",
    "    \n",
    "pd.DataFrame(benchmark).set_index('Algorithm').sort_values('test_rmse') \n",
    "list = []\n",
    "for i in benchmark:\n",
    "    error, algorithm = i[0],i[3]\n",
    "    arr = np.array([error,algorithm])\n",
    "    list.append(arr)\n",
    "\n",
    "algorithms = []\n",
    "score = []\n",
    "for iterator in list:\n",
    "    score.append(float(iterator[0]))\n",
    "    algorithms.append(iterator[1])\n",
    "fig, ax = plt.subplots()\n",
    "ax.set_ylabel('RMSE')\n",
    "ax.set_title('RMSE Matrix Factorization-Based Algorithms')\n",
    "plt.bar(algorithms, score)\n",
    "plt.show()"
   ]
  },
  {
   "cell_type": "code",
   "execution_count": 68,
   "metadata": {},
   "outputs": [
    {
     "data": {
      "text/html": [
       "<div>\n",
       "<style scoped>\n",
       "    .dataframe tbody tr th:only-of-type {\n",
       "        vertical-align: middle;\n",
       "    }\n",
       "\n",
       "    .dataframe tbody tr th {\n",
       "        vertical-align: top;\n",
       "    }\n",
       "\n",
       "    .dataframe thead th {\n",
       "        text-align: right;\n",
       "    }\n",
       "</style>\n",
       "<table border=\"1\" class=\"dataframe\">\n",
       "  <thead>\n",
       "    <tr style=\"text-align: right;\">\n",
       "      <th></th>\n",
       "      <th>test_rmse</th>\n",
       "      <th>fit_time</th>\n",
       "      <th>test_time</th>\n",
       "    </tr>\n",
       "    <tr>\n",
       "      <th>Algorithm</th>\n",
       "      <th></th>\n",
       "      <th></th>\n",
       "      <th></th>\n",
       "    </tr>\n",
       "  </thead>\n",
       "  <tbody>\n",
       "    <tr>\n",
       "      <th>SVDpp</th>\n",
       "      <td>0.941331</td>\n",
       "      <td>60.343477</td>\n",
       "      <td>4.863288</td>\n",
       "    </tr>\n",
       "    <tr>\n",
       "      <th>SVD</th>\n",
       "      <td>0.954107</td>\n",
       "      <td>2.872329</td>\n",
       "      <td>0.383757</td>\n",
       "    </tr>\n",
       "    <tr>\n",
       "      <th>SlopeOne</th>\n",
       "      <td>0.959901</td>\n",
       "      <td>0.343590</td>\n",
       "      <td>4.305401</td>\n",
       "    </tr>\n",
       "    <tr>\n",
       "      <th>NMF</th>\n",
       "      <td>0.994818</td>\n",
       "      <td>2.769283</td>\n",
       "      <td>0.279786</td>\n",
       "    </tr>\n",
       "  </tbody>\n",
       "</table>\n",
       "</div>"
      ],
      "text/plain": [
       "           test_rmse   fit_time  test_time\n",
       "Algorithm                                 \n",
       "SVDpp       0.941331  60.343477   4.863288\n",
       "SVD         0.954107   2.872329   0.383757\n",
       "SlopeOne    0.959901   0.343590   4.305401\n",
       "NMF         0.994818   2.769283   0.279786"
      ]
     },
     "execution_count": 68,
     "metadata": {},
     "output_type": "execute_result"
    }
   ],
   "source": [
    "pd.DataFrame(benchmark).set_index('Algorithm').sort_values('test_rmse')"
   ]
  },
  {
   "cell_type": "markdown",
   "metadata": {},
   "source": [
    "# MAE (Mean Absolute Error) for Matrix Factorization-Based Algorithms"
   ]
  },
  {
   "cell_type": "code",
   "execution_count": 69,
   "metadata": {},
   "outputs": [
    {
     "data": {
      "image/png": "[encoded data removed]",
      "text/plain": [
       "<Figure size 432x288 with 1 Axes>"
      ]
     },
     "metadata": {
      "needs_background": "light"
     },
     "output_type": "display_data"
    }
   ],
   "source": [
    "benchmark = []\n",
    "for algorithm in [SVD(), SVDpp(), NMF(), SlopeOne()]:\n",
    "    results = cross_validate(algorithm, data, measures=['MAE'], cv=2, verbose=False)\n",
    "    tmp = pd.DataFrame.from_dict(results).mean(axis=0)\n",
    "    tmp = tmp.append(pd.Series([str(algorithm).split(' ')[0].split('.')[-1]], index=['Algorithm']))\n",
    "    benchmark.append(tmp)\n",
    "    \n",
    "pd.DataFrame(benchmark).set_index('Algorithm').sort_values('test_mae') \n",
    "list = []\n",
    "for i in benchmark:\n",
    "    error, algorithm = i[0],i[3]\n",
    "    arr = np.array([error,algorithm])\n",
    "    list.append(arr)\n",
    "\n",
    "algorithms = []\n",
    "score = []\n",
    "for iterator in list:\n",
    "    score.append(float(iterator[0]))\n",
    "    algorithms.append(iterator[1])\n",
    "fig, ax = plt.subplots()\n",
    "ax.set_ylabel('MAE')\n",
    "ax.set_title('MAE Matrix Factorization-Based Algorithms')\n",
    "plt.bar(algorithms, score)\n",
    "plt.show()"
   ]
  },
  {
   "cell_type": "code",
   "execution_count": 70,
   "metadata": {},
   "outputs": [
    {
     "data": {
      "text/html": [
       "<div>\n",
       "<style scoped>\n",
       "    .dataframe tbody tr th:only-of-type {\n",
       "        vertical-align: middle;\n",
       "    }\n",
       "\n",
       "    .dataframe tbody tr th {\n",
       "        vertical-align: top;\n",
       "    }\n",
       "\n",
       "    .dataframe thead th {\n",
       "        text-align: right;\n",
       "    }\n",
       "</style>\n",
       "<table border=\"1\" class=\"dataframe\">\n",
       "  <thead>\n",
       "    <tr style=\"text-align: right;\">\n",
       "      <th></th>\n",
       "      <th>test_mae</th>\n",
       "      <th>fit_time</th>\n",
       "      <th>test_time</th>\n",
       "    </tr>\n",
       "    <tr>\n",
       "      <th>Algorithm</th>\n",
       "      <th></th>\n",
       "      <th></th>\n",
       "      <th></th>\n",
       "    </tr>\n",
       "  </thead>\n",
       "  <tbody>\n",
       "    <tr>\n",
       "      <th>SVDpp</th>\n",
       "      <td>0.739331</td>\n",
       "      <td>61.897038</td>\n",
       "      <td>4.773944</td>\n",
       "    </tr>\n",
       "    <tr>\n",
       "      <th>SlopeOne</th>\n",
       "      <td>0.752667</td>\n",
       "      <td>0.346959</td>\n",
       "      <td>4.334458</td>\n",
       "    </tr>\n",
       "    <tr>\n",
       "      <th>SVD</th>\n",
       "      <td>0.756755</td>\n",
       "      <td>2.621136</td>\n",
       "      <td>0.314713</td>\n",
       "    </tr>\n",
       "    <tr>\n",
       "      <th>NMF</th>\n",
       "      <td>0.781476</td>\n",
       "      <td>2.677302</td>\n",
       "      <td>0.280676</td>\n",
       "    </tr>\n",
       "  </tbody>\n",
       "</table>\n",
       "</div>"
      ],
      "text/plain": [
       "           test_mae   fit_time  test_time\n",
       "Algorithm                                \n",
       "SVDpp      0.739331  61.897038   4.773944\n",
       "SlopeOne   0.752667   0.346959   4.334458\n",
       "SVD        0.756755   2.621136   0.314713\n",
       "NMF        0.781476   2.677302   0.280676"
      ]
     },
     "execution_count": 70,
     "metadata": {},
     "output_type": "execute_result"
    }
   ],
   "source": [
    "pd.DataFrame(benchmark).set_index('Algorithm').sort_values('test_mae')"
   ]
  },
  {
   "cell_type": "markdown",
   "metadata": {},
   "source": [
    "# MSE (Mean Squared Error) for Matrix Factorization-Based Algorithms"
   ]
  },
  {
   "cell_type": "code",
   "execution_count": 71,
   "metadata": {},
   "outputs": [
    {
     "data": {
      "image/png": "[encoded data removed]",
      "text/plain": [
       "<Figure size 432x288 with 1 Axes>"
      ]
     },
     "metadata": {
      "needs_background": "light"
     },
     "output_type": "display_data"
    }
   ],
   "source": [
    "benchmark = []\n",
    "for algorithm in [SVD(), SVDpp(), NMF(), SlopeOne()]:\n",
    "    results = cross_validate(algorithm, data, measures=['MSE'], cv=2, verbose=False)\n",
    "    tmp = pd.DataFrame.from_dict(results).mean(axis=0)\n",
    "    tmp = tmp.append(pd.Series([str(algorithm).split(' ')[0].split('.')[-1]], index=['Algorithm']))\n",
    "    benchmark.append(tmp)\n",
    "    \n",
    "pd.DataFrame(benchmark).set_index('Algorithm').sort_values('test_mse') \n",
    "list = []\n",
    "for i in benchmark:\n",
    "    error, algorithm = i[0],i[3]\n",
    "    arr = np.array([error,algorithm])\n",
    "    list.append(arr)\n",
    "\n",
    "algorithms = []\n",
    "score = []\n",
    "for iterator in list:\n",
    "    score.append(float(iterator[0]))\n",
    "    algorithms.append(iterator[1])\n",
    "fig, ax = plt.subplots()\n",
    "ax.set_ylabel('MSE')\n",
    "ax.set_title('MSE Matrix Factorization-Based Algorithms')\n",
    "plt.bar(algorithms, score)\n",
    "plt.show()"
   ]
  },
  {
   "cell_type": "code",
   "execution_count": 72,
   "metadata": {},
   "outputs": [
    {
     "data": {
      "text/html": [
       "<div>\n",
       "<style scoped>\n",
       "    .dataframe tbody tr th:only-of-type {\n",
       "        vertical-align: middle;\n",
       "    }\n",
       "\n",
       "    .dataframe tbody tr th {\n",
       "        vertical-align: top;\n",
       "    }\n",
       "\n",
       "    .dataframe thead th {\n",
       "        text-align: right;\n",
       "    }\n",
       "</style>\n",
       "<table border=\"1\" class=\"dataframe\">\n",
       "  <thead>\n",
       "    <tr style=\"text-align: right;\">\n",
       "      <th></th>\n",
       "      <th>test_mse</th>\n",
       "      <th>fit_time</th>\n",
       "      <th>test_time</th>\n",
       "    </tr>\n",
       "    <tr>\n",
       "      <th>Algorithm</th>\n",
       "      <th></th>\n",
       "      <th></th>\n",
       "      <th></th>\n",
       "    </tr>\n",
       "  </thead>\n",
       "  <tbody>\n",
       "    <tr>\n",
       "      <th>SVDpp</th>\n",
       "      <td>0.879775</td>\n",
       "      <td>59.963632</td>\n",
       "      <td>4.836035</td>\n",
       "    </tr>\n",
       "    <tr>\n",
       "      <th>SVD</th>\n",
       "      <td>0.913327</td>\n",
       "      <td>2.539639</td>\n",
       "      <td>0.337682</td>\n",
       "    </tr>\n",
       "    <tr>\n",
       "      <th>SlopeOne</th>\n",
       "      <td>0.920198</td>\n",
       "      <td>0.347427</td>\n",
       "      <td>4.344244</td>\n",
       "    </tr>\n",
       "    <tr>\n",
       "      <th>NMF</th>\n",
       "      <td>0.994094</td>\n",
       "      <td>2.776786</td>\n",
       "      <td>0.278666</td>\n",
       "    </tr>\n",
       "  </tbody>\n",
       "</table>\n",
       "</div>"
      ],
      "text/plain": [
       "           test_mse   fit_time  test_time\n",
       "Algorithm                                \n",
       "SVDpp      0.879775  59.963632   4.836035\n",
       "SVD        0.913327   2.539639   0.337682\n",
       "SlopeOne   0.920198   0.347427   4.344244\n",
       "NMF        0.994094   2.776786   0.278666"
      ]
     },
     "execution_count": 72,
     "metadata": {},
     "output_type": "execute_result"
    }
   ],
   "source": [
    "pd.DataFrame(benchmark).set_index('Algorithm').sort_values('test_mse')"
   ]
  },
  {
   "cell_type": "markdown",
   "metadata": {},
   "source": [
    "# FCP (Fraction of Concordant Pairs) for Matrix Factorization-Based Algorithms"
   ]
  },
  {
   "cell_type": "code",
   "execution_count": 73,
   "metadata": {},
   "outputs": [
    {
     "data": {
      "image/png": "[encoded data removed]",
      "text/plain": [
       "<Figure size 432x288 with 1 Axes>"
      ]
     },
     "metadata": {
      "needs_background": "light"
     },
     "output_type": "display_data"
    }
   ],
   "source": [
    "benchmark = []\n",
    "for algorithm in [SVD(), SVDpp(), NMF(), SlopeOne()]:\n",
    "    results = cross_validate(algorithm, data, measures=['FCP'], cv=2, verbose=False)\n",
    "    tmp = pd.DataFrame.from_dict(results).mean(axis=0)\n",
    "    tmp = tmp.append(pd.Series([str(algorithm).split(' ')[0].split('.')[-1]], index=['Algorithm']))\n",
    "    benchmark.append(tmp)\n",
    "    \n",
    "pd.DataFrame(benchmark).set_index('Algorithm').sort_values('test_fcp') \n",
    "list = []\n",
    "for i in benchmark:\n",
    "    error, algorithm = i[0],i[3]\n",
    "    arr = np.array([error,algorithm])\n",
    "    list.append(arr)\n",
    "\n",
    "algorithms = []\n",
    "score = []\n",
    "for iterator in list:\n",
    "    score.append(float(iterator[0]))\n",
    "    algorithms.append(iterator[1])\n",
    "fig, ax = plt.subplots()\n",
    "ax.set_ylabel('FCP')\n",
    "ax.set_title('FCP Matrix Factorization-Based Algorithms')\n",
    "plt.bar(algorithms, score)\n",
    "plt.show()"
   ]
  },
  {
   "cell_type": "code",
   "execution_count": 74,
   "metadata": {},
   "outputs": [
    {
     "data": {
      "text/html": [
       "<div>\n",
       "<style scoped>\n",
       "    .dataframe tbody tr th:only-of-type {\n",
       "        vertical-align: middle;\n",
       "    }\n",
       "\n",
       "    .dataframe tbody tr th {\n",
       "        vertical-align: top;\n",
       "    }\n",
       "\n",
       "    .dataframe thead th {\n",
       "        text-align: right;\n",
       "    }\n",
       "</style>\n",
       "<table border=\"1\" class=\"dataframe\">\n",
       "  <thead>\n",
       "    <tr style=\"text-align: right;\">\n",
       "      <th></th>\n",
       "      <th>test_fcp</th>\n",
       "      <th>fit_time</th>\n",
       "      <th>test_time</th>\n",
       "    </tr>\n",
       "    <tr>\n",
       "      <th>Algorithm</th>\n",
       "      <th></th>\n",
       "      <th></th>\n",
       "      <th></th>\n",
       "    </tr>\n",
       "  </thead>\n",
       "  <tbody>\n",
       "    <tr>\n",
       "      <th>NMF</th>\n",
       "      <td>0.685340</td>\n",
       "      <td>2.785717</td>\n",
       "      <td>0.291123</td>\n",
       "    </tr>\n",
       "    <tr>\n",
       "      <th>SVD</th>\n",
       "      <td>0.691864</td>\n",
       "      <td>2.562218</td>\n",
       "      <td>0.319811</td>\n",
       "    </tr>\n",
       "    <tr>\n",
       "      <th>SlopeOne</th>\n",
       "      <td>0.700508</td>\n",
       "      <td>0.342453</td>\n",
       "      <td>4.304160</td>\n",
       "    </tr>\n",
       "    <tr>\n",
       "      <th>SVDpp</th>\n",
       "      <td>0.704939</td>\n",
       "      <td>60.246693</td>\n",
       "      <td>4.852001</td>\n",
       "    </tr>\n",
       "  </tbody>\n",
       "</table>\n",
       "</div>"
      ],
      "text/plain": [
       "           test_fcp   fit_time  test_time\n",
       "Algorithm                                \n",
       "NMF        0.685340   2.785717   0.291123\n",
       "SVD        0.691864   2.562218   0.319811\n",
       "SlopeOne   0.700508   0.342453   4.304160\n",
       "SVDpp      0.704939  60.246693   4.852001"
      ]
     },
     "execution_count": 74,
     "metadata": {},
     "output_type": "execute_result"
    }
   ],
   "source": [
    "pd.DataFrame(benchmark).set_index('Algorithm').sort_values('test_fcp') "
   ]
  },
  {
   "cell_type": "markdown",
   "metadata": {},
   "source": [
    "# RMSE (Root-mean-square deviation) for Basic Algorithms"
   ]
  },
  {
   "cell_type": "code",
   "execution_count": 26,
   "metadata": {},
   "outputs": [
    {
     "name": "stdout",
     "output_type": "stream",
     "text": [
      "Estimating biases using als...\n",
      "Estimating biases using als...\n",
      "Computing the msd similarity matrix...\n",
      "Done computing similarity matrix.\n",
      "Computing the msd similarity matrix...\n",
      "Done computing similarity matrix.\n",
      "Computing the msd similarity matrix...\n",
      "Done computing similarity matrix.\n",
      "Computing the msd similarity matrix...\n",
      "Done computing similarity matrix.\n",
      "Computing the msd similarity matrix...\n",
      "Done computing similarity matrix.\n",
      "Computing the msd similarity matrix...\n",
      "Done computing similarity matrix.\n",
      "Estimating biases using als...\n",
      "Computing the msd similarity matrix...\n",
      "Done computing similarity matrix.\n",
      "Estimating biases using als...\n",
      "Computing the msd similarity matrix...\n",
      "Done computing similarity matrix.\n"
     ]
    },
    {
     "data": {
      "image/png": "[encoded data removed]",
      "text/plain": [
       "<Figure size 1080x432 with 1 Axes>"
      ]
     },
     "metadata": {
      "needs_background": "light"
     },
     "output_type": "display_data"
    }
   ],
   "source": [
    "data = Dataset.load_builtin('ml-100k')\n",
    "benchmark = []\n",
    "for algorithm in [NormalPredictor(), BaselineOnly(), KNNBasic(), KNNWithMeans(), KNNWithZScore(), KNNBaseline()]:\n",
    "    results = cross_validate(algorithm, data, measures=['RMSE'], cv=2, verbose=False)\n",
    "    tmp = pd.DataFrame.from_dict(results).mean(axis=0)\n",
    "    tmp = tmp.append(pd.Series([str(algorithm).split(' ')[0].split('.')[-1]], index=['Algorithm']))\n",
    "    benchmark.append(tmp)\n",
    "    \n",
    "pd.DataFrame(benchmark).set_index('Algorithm').sort_values('test_rmse') \n",
    "list = []\n",
    "for i in benchmark:\n",
    "    error, algorithm = i[0],i[3]\n",
    "    arr = np.array([error,algorithm])\n",
    "    list.append(arr)\n",
    "\n",
    "algorithms = []\n",
    "score = []\n",
    "for iterator in list:\n",
    "    score.append(float(iterator[0]))\n",
    "    algorithms.append(iterator[1])\n",
    "fig, ax = plt.subplots()\n",
    "ax.set_ylabel('RMSE')\n",
    "ax.set_title('RMSE Basic Algorithms')\n",
    "plt.bar(algorithms, score)\n",
    "plt.show()"
   ]
  },
  {
   "cell_type": "code",
   "execution_count": 19,
   "metadata": {},
   "outputs": [
    {
     "data": {
      "text/html": [
       "<div>\n",
       "<style scoped>\n",
       "    .dataframe tbody tr th:only-of-type {\n",
       "        vertical-align: middle;\n",
       "    }\n",
       "\n",
       "    .dataframe tbody tr th {\n",
       "        vertical-align: top;\n",
       "    }\n",
       "\n",
       "    .dataframe thead th {\n",
       "        text-align: right;\n",
       "    }\n",
       "</style>\n",
       "<table border=\"1\" class=\"dataframe\">\n",
       "  <thead>\n",
       "    <tr style=\"text-align: right;\">\n",
       "      <th></th>\n",
       "      <th>test_rmse</th>\n",
       "      <th>fit_time</th>\n",
       "      <th>test_time</th>\n",
       "    </tr>\n",
       "    <tr>\n",
       "      <th>Algorithm</th>\n",
       "      <th></th>\n",
       "      <th></th>\n",
       "      <th></th>\n",
       "    </tr>\n",
       "  </thead>\n",
       "  <tbody>\n",
       "    <tr>\n",
       "      <th>KNNBaseline</th>\n",
       "      <td>0.946119</td>\n",
       "      <td>0.216725</td>\n",
       "      <td>6.242694</td>\n",
       "    </tr>\n",
       "    <tr>\n",
       "      <th>BaselineOnly</th>\n",
       "      <td>0.952420</td>\n",
       "      <td>0.108566</td>\n",
       "      <td>0.276125</td>\n",
       "    </tr>\n",
       "    <tr>\n",
       "      <th>KNNWithZScore</th>\n",
       "      <td>0.967550</td>\n",
       "      <td>0.191133</td>\n",
       "      <td>5.827833</td>\n",
       "    </tr>\n",
       "    <tr>\n",
       "      <th>KNNWithMeans</th>\n",
       "      <td>0.968662</td>\n",
       "      <td>0.166443</td>\n",
       "      <td>5.378789</td>\n",
       "    </tr>\n",
       "    <tr>\n",
       "      <th>KNNBasic</th>\n",
       "      <td>1.001937</td>\n",
       "      <td>0.151866</td>\n",
       "      <td>5.477204</td>\n",
       "    </tr>\n",
       "    <tr>\n",
       "      <th>NormalPredictor</th>\n",
       "      <td>1.520588</td>\n",
       "      <td>0.072494</td>\n",
       "      <td>0.324510</td>\n",
       "    </tr>\n",
       "  </tbody>\n",
       "</table>\n",
       "</div>"
      ],
      "text/plain": [
       "                 test_rmse  fit_time  test_time\n",
       "Algorithm                                      \n",
       "KNNBaseline       0.946119  0.216725   6.242694\n",
       "BaselineOnly      0.952420  0.108566   0.276125\n",
       "KNNWithZScore     0.967550  0.191133   5.827833\n",
       "KNNWithMeans      0.968662  0.166443   5.378789\n",
       "KNNBasic          1.001937  0.151866   5.477204\n",
       "NormalPredictor   1.520588  0.072494   0.324510"
      ]
     },
     "execution_count": 19,
     "metadata": {},
     "output_type": "execute_result"
    }
   ],
   "source": [
    "pd.DataFrame(benchmark).set_index('Algorithm').sort_values('test_rmse')"
   ]
  },
  {
   "cell_type": "markdown",
   "metadata": {},
   "source": [
    "# MAE (Mean Absolute Error) for Basic Algorithms"
   ]
  },
  {
   "cell_type": "code",
   "execution_count": 20,
   "metadata": {},
   "outputs": [
    {
     "name": "stdout",
     "output_type": "stream",
     "text": [
      "Estimating biases using als...\n",
      "Estimating biases using als...\n",
      "Computing the msd similarity matrix...\n",
      "Done computing similarity matrix.\n",
      "Computing the msd similarity matrix...\n",
      "Done computing similarity matrix.\n",
      "Computing the msd similarity matrix...\n",
      "Done computing similarity matrix.\n",
      "Computing the msd similarity matrix...\n",
      "Done computing similarity matrix.\n",
      "Computing the msd similarity matrix...\n",
      "Done computing similarity matrix.\n",
      "Computing the msd similarity matrix...\n",
      "Done computing similarity matrix.\n",
      "Estimating biases using als...\n",
      "Computing the msd similarity matrix...\n",
      "Done computing similarity matrix.\n",
      "Estimating biases using als...\n",
      "Computing the msd similarity matrix...\n",
      "Done computing similarity matrix.\n"
     ]
    },
    {
     "data": {
      "image/png": "[encoded data removed]",
      "text/plain": [
       "<Figure size 1080x432 with 1 Axes>"
      ]
     },
     "metadata": {
      "needs_background": "light"
     },
     "output_type": "display_data"
    }
   ],
   "source": [
    "benchmark = []\n",
    "for algorithm in [NormalPredictor(), BaselineOnly(), KNNBasic(), KNNWithMeans(), KNNWithZScore(), KNNBaseline()]:\n",
    "    results = cross_validate(algorithm, data, measures=['MAE'], cv=2, verbose=False)\n",
    "    tmp = pd.DataFrame.from_dict(results).mean(axis=0)\n",
    "    tmp = tmp.append(pd.Series([str(algorithm).split(' ')[0].split('.MS')[-1]], index=['Algorithm']))\n",
    "    benchmark.append(tmp)\n",
    "    \n",
    "pd.DataFrame(benchmark).set_index('Algorithm').sort_values('test_mae') \n",
    "list = []\n",
    "for i in benchmark:\n",
    "    error, algorithm = i[0],i[3]\n",
    "    arr = np.array([error,algorithm])\n",
    "    list.append(arr)\n",
    "\n",
    "algorithms = []\n",
    "score = []\n",
    "for iterator in list:\n",
    "    score.append(float(iterator[0]))\n",
    "    algorithms.append(iterator[1])\n",
    "fig, ax = plt.subplots()\n",
    "ax.set_ylabel('MAE')\n",
    "ax.set_title('MAE Basic Algorithms')\n",
    "plt.bar(algorithms, score)\n",
    "plt.show()"
   ]
  },
  {
   "cell_type": "code",
   "execution_count": 21,
   "metadata": {},
   "outputs": [
    {
     "data": {
      "text/html": [
       "<div>\n",
       "<style scoped>\n",
       "    .dataframe tbody tr th:only-of-type {\n",
       "        vertical-align: middle;\n",
       "    }\n",
       "\n",
       "    .dataframe tbody tr th {\n",
       "        vertical-align: top;\n",
       "    }\n",
       "\n",
       "    .dataframe thead th {\n",
       "        text-align: right;\n",
       "    }\n",
       "</style>\n",
       "<table border=\"1\" class=\"dataframe\">\n",
       "  <thead>\n",
       "    <tr style=\"text-align: right;\">\n",
       "      <th></th>\n",
       "      <th>test_mae</th>\n",
       "      <th>fit_time</th>\n",
       "      <th>test_time</th>\n",
       "    </tr>\n",
       "    <tr>\n",
       "      <th>Algorithm</th>\n",
       "      <th></th>\n",
       "      <th></th>\n",
       "      <th></th>\n",
       "    </tr>\n",
       "  </thead>\n",
       "  <tbody>\n",
       "    <tr>\n",
       "      <th>KNNBaseline</th>\n",
       "      <td>0.746374</td>\n",
       "      <td>0.271104</td>\n",
       "      <td>7.054352</td>\n",
       "    </tr>\n",
       "    <tr>\n",
       "      <th>BaselineOnly</th>\n",
       "      <td>0.757606</td>\n",
       "      <td>0.096403</td>\n",
       "      <td>0.254620</td>\n",
       "    </tr>\n",
       "    <tr>\n",
       "      <th>KNNWithZScore</th>\n",
       "      <td>0.759759</td>\n",
       "      <td>0.193888</td>\n",
       "      <td>5.696322</td>\n",
       "    </tr>\n",
       "    <tr>\n",
       "      <th>KNNWithMeans</th>\n",
       "      <td>0.762103</td>\n",
       "      <td>0.154678</td>\n",
       "      <td>5.262339</td>\n",
       "    </tr>\n",
       "    <tr>\n",
       "      <th>KNNBasic</th>\n",
       "      <td>0.795304</td>\n",
       "      <td>0.148121</td>\n",
       "      <td>5.156546</td>\n",
       "    </tr>\n",
       "    <tr>\n",
       "      <th>NormalPredictor</th>\n",
       "      <td>1.222307</td>\n",
       "      <td>0.068454</td>\n",
       "      <td>0.292717</td>\n",
       "    </tr>\n",
       "  </tbody>\n",
       "</table>\n",
       "</div>"
      ],
      "text/plain": [
       "                 test_mae  fit_time  test_time\n",
       "Algorithm                                     \n",
       "KNNBaseline      0.746374  0.271104   7.054352\n",
       "BaselineOnly     0.757606  0.096403   0.254620\n",
       "KNNWithZScore    0.759759  0.193888   5.696322\n",
       "KNNWithMeans     0.762103  0.154678   5.262339\n",
       "KNNBasic         0.795304  0.148121   5.156546\n",
       "NormalPredictor  1.222307  0.068454   0.292717"
      ]
     },
     "execution_count": 21,
     "metadata": {},
     "output_type": "execute_result"
    }
   ],
   "source": [
    "pd.DataFrame(benchmark).set_index('Algorithm').sort_values('test_mae')"
   ]
  },
  {
   "cell_type": "markdown",
   "metadata": {},
   "source": [
    "# MSE (Mean Squared Error) for Basic Algorithms"
   ]
  },
  {
   "cell_type": "code",
   "execution_count": 22,
   "metadata": {},
   "outputs": [
    {
     "name": "stdout",
     "output_type": "stream",
     "text": [
      "Estimating biases using als...\n",
      "Estimating biases using als...\n",
      "Computing the msd similarity matrix...\n",
      "Done computing similarity matrix.\n",
      "Computing the msd similarity matrix...\n",
      "Done computing similarity matrix.\n",
      "Computing the msd similarity matrix...\n",
      "Done computing similarity matrix.\n",
      "Computing the msd similarity matrix...\n",
      "Done computing similarity matrix.\n",
      "Computing the msd similarity matrix...\n",
      "Done computing similarity matrix.\n",
      "Computing the msd similarity matrix...\n",
      "Done computing similarity matrix.\n",
      "Estimating biases using als...\n",
      "Computing the msd similarity matrix...\n",
      "Done computing similarity matrix.\n",
      "Estimating biases using als...\n",
      "Computing the msd similarity matrix...\n",
      "Done computing similarity matrix.\n"
     ]
    },
    {
     "data": {
      "image/png": "[encoded data removed]",
      "text/plain": [
       "<Figure size 1080x432 with 1 Axes>"
      ]
     },
     "metadata": {
      "needs_background": "light"
     },
     "output_type": "display_data"
    }
   ],
   "source": [
    "benchmark = []\n",
    "for algorithm in [NormalPredictor(), BaselineOnly(), KNNBasic(), KNNWithMeans(), KNNWithZScore(), KNNBaseline()]:\n",
    "    results = cross_validate(algorithm, data, measures=['MSE'], cv=2, verbose=False)\n",
    "    tmp = pd.DataFrame.from_dict(results).mean(axis=0)\n",
    "    tmp = tmp.append(pd.Series([str(algorithm).split(' ')[0].split('.')[-1]], index=['Algorithm']))\n",
    "    benchmark.append(tmp)\n",
    "    \n",
    "pd.DataFrame(benchmark).set_index('Algorithm').sort_values('test_mse') \n",
    "list = []\n",
    "for i in benchmark:\n",
    "    error, algorithm = i[0],i[3]\n",
    "    arr = np.array([error,algorithm])\n",
    "    list.append(arr)\n",
    "\n",
    "algorithms = []\n",
    "score = []\n",
    "for iterator in list:\n",
    "    score.append(float(iterator[0]))\n",
    "    algorithms.append(iterator[1])\n",
    "fig, ax = plt.subplots()\n",
    "ax.set_ylabel('MSE')\n",
    "ax.set_title('MSE Basic Algorithms')\n",
    "plt.bar(algorithms, score)\n",
    "plt.show()"
   ]
  },
  {
   "cell_type": "code",
   "execution_count": 23,
   "metadata": {},
   "outputs": [
    {
     "data": {
      "text/html": [
       "<div>\n",
       "<style scoped>\n",
       "    .dataframe tbody tr th:only-of-type {\n",
       "        vertical-align: middle;\n",
       "    }\n",
       "\n",
       "    .dataframe tbody tr th {\n",
       "        vertical-align: top;\n",
       "    }\n",
       "\n",
       "    .dataframe thead th {\n",
       "        text-align: right;\n",
       "    }\n",
       "</style>\n",
       "<table border=\"1\" class=\"dataframe\">\n",
       "  <thead>\n",
       "    <tr style=\"text-align: right;\">\n",
       "      <th></th>\n",
       "      <th>test_mse</th>\n",
       "      <th>fit_time</th>\n",
       "      <th>test_time</th>\n",
       "    </tr>\n",
       "    <tr>\n",
       "      <th>Algorithm</th>\n",
       "      <th></th>\n",
       "      <th></th>\n",
       "      <th></th>\n",
       "    </tr>\n",
       "  </thead>\n",
       "  <tbody>\n",
       "    <tr>\n",
       "      <th>KNNBaseline</th>\n",
       "      <td>0.894516</td>\n",
       "      <td>0.245361</td>\n",
       "      <td>7.192426</td>\n",
       "    </tr>\n",
       "    <tr>\n",
       "      <th>BaselineOnly</th>\n",
       "      <td>0.909752</td>\n",
       "      <td>0.100844</td>\n",
       "      <td>0.270711</td>\n",
       "    </tr>\n",
       "    <tr>\n",
       "      <th>KNNWithMeans</th>\n",
       "      <td>0.935170</td>\n",
       "      <td>0.166215</td>\n",
       "      <td>5.719493</td>\n",
       "    </tr>\n",
       "    <tr>\n",
       "      <th>KNNWithZScore</th>\n",
       "      <td>0.936284</td>\n",
       "      <td>0.222674</td>\n",
       "      <td>6.129034</td>\n",
       "    </tr>\n",
       "    <tr>\n",
       "      <th>KNNBasic</th>\n",
       "      <td>1.006115</td>\n",
       "      <td>0.277584</td>\n",
       "      <td>5.603115</td>\n",
       "    </tr>\n",
       "    <tr>\n",
       "      <th>NormalPredictor</th>\n",
       "      <td>2.305393</td>\n",
       "      <td>0.066912</td>\n",
       "      <td>0.286243</td>\n",
       "    </tr>\n",
       "  </tbody>\n",
       "</table>\n",
       "</div>"
      ],
      "text/plain": [
       "                 test_mse  fit_time  test_time\n",
       "Algorithm                                     \n",
       "KNNBaseline      0.894516  0.245361   7.192426\n",
       "BaselineOnly     0.909752  0.100844   0.270711\n",
       "KNNWithMeans     0.935170  0.166215   5.719493\n",
       "KNNWithZScore    0.936284  0.222674   6.129034\n",
       "KNNBasic         1.006115  0.277584   5.603115\n",
       "NormalPredictor  2.305393  0.066912   0.286243"
      ]
     },
     "execution_count": 23,
     "metadata": {},
     "output_type": "execute_result"
    }
   ],
   "source": [
    "pd.DataFrame(benchmark).set_index('Algorithm').sort_values('test_mse')"
   ]
  },
  {
   "cell_type": "markdown",
   "metadata": {},
   "source": [
    "# FCP (Fraction of Concordant Pairs) for Basic Algorithms"
   ]
  },
  {
   "cell_type": "code",
   "execution_count": 28,
   "metadata": {},
   "outputs": [
    {
     "name": "stdout",
     "output_type": "stream",
     "text": [
      "Estimating biases using als...\n",
      "Estimating biases using als...\n",
      "Computing the msd similarity matrix...\n",
      "Done computing similarity matrix.\n",
      "Computing the msd similarity matrix...\n",
      "Done computing similarity matrix.\n",
      "Computing the msd similarity matrix...\n",
      "Done computing similarity matrix.\n",
      "Computing the msd similarity matrix...\n",
      "Done computing similarity matrix.\n",
      "Computing the msd similarity matrix...\n",
      "Done computing similarity matrix.\n",
      "Computing the msd similarity matrix...\n",
      "Done computing similarity matrix.\n",
      "Estimating biases using als...\n",
      "Computing the msd similarity matrix...\n",
      "Done computing similarity matrix.\n",
      "Estimating biases using als...\n",
      "Computing the msd similarity matrix...\n",
      "Done computing similarity matrix.\n"
     ]
    },
    {
     "data": {
      "image/png": "[encoded data removed]",
      "text/plain": [
       "<Figure size 1080x432 with 1 Axes>"
      ]
     },
     "metadata": {
      "needs_background": "light"
     },
     "output_type": "display_data"
    }
   ],
   "source": [
    "benchmark = []\n",
    "for algorithm in [NormalPredictor(), BaselineOnly(), KNNBasic(), KNNWithMeans(), KNNWithZScore(), KNNBaseline()]:\n",
    "    results = cross_validate(algorithm, data, measures=['FCP'], cv=2, verbose=False)\n",
    "    tmp = pd.DataFrame.from_dict(results).mean(axis=0)\n",
    "    tmp = tmp.append(pd.Series([str(algorithm).split(' ')[0].split('.')[-1]], index=['Algorithm']))\n",
    "    benchmark.append(tmp)\n",
    "    \n",
    "pd.DataFrame(benchmark).set_index('Algorithm').sort_values('test_fcp') \n",
    "list = []\n",
    "for i in benchmark:\n",
    "    error, algorithm = i[0],i[3]\n",
    "    arr = np.array([error,algorithm])\n",
    "    list.append(arr)\n",
    "\n",
    "algorithms = []\n",
    "score = []\n",
    "for iterator in list:\n",
    "    score.append(float(iterator[0]))\n",
    "    algorithms.append(iterator[1])\n",
    "fig, ax = plt.subplots()\n",
    "ax.set_ylabel('FCP')\n",
    "ax.set_title('FCP Basic Algorithms')\n",
    "plt.bar(algorithms, score)\n",
    "plt.show()"
   ]
  },
  {
   "cell_type": "code",
   "execution_count": 29,
   "metadata": {},
   "outputs": [
    {
     "data": {
      "text/html": [
       "<div>\n",
       "<style scoped>\n",
       "    .dataframe tbody tr th:only-of-type {\n",
       "        vertical-align: middle;\n",
       "    }\n",
       "\n",
       "    .dataframe tbody tr th {\n",
       "        vertical-align: top;\n",
       "    }\n",
       "\n",
       "    .dataframe thead th {\n",
       "        text-align: right;\n",
       "    }\n",
       "</style>\n",
       "<table border=\"1\" class=\"dataframe\">\n",
       "  <thead>\n",
       "    <tr style=\"text-align: right;\">\n",
       "      <th></th>\n",
       "      <th>test_fcp</th>\n",
       "      <th>fit_time</th>\n",
       "      <th>test_time</th>\n",
       "    </tr>\n",
       "    <tr>\n",
       "      <th>Algorithm</th>\n",
       "      <th></th>\n",
       "      <th></th>\n",
       "      <th></th>\n",
       "    </tr>\n",
       "  </thead>\n",
       "  <tbody>\n",
       "    <tr>\n",
       "      <th>NormalPredictor</th>\n",
       "      <td>0.495384</td>\n",
       "      <td>0.076016</td>\n",
       "      <td>0.323385</td>\n",
       "    </tr>\n",
       "    <tr>\n",
       "      <th>BaselineOnly</th>\n",
       "      <td>0.697808</td>\n",
       "      <td>0.115278</td>\n",
       "      <td>0.260968</td>\n",
       "    </tr>\n",
       "    <tr>\n",
       "      <th>KNNWithMeans</th>\n",
       "      <td>0.699110</td>\n",
       "      <td>0.170135</td>\n",
       "      <td>6.218919</td>\n",
       "    </tr>\n",
       "    <tr>\n",
       "      <th>KNNWithZScore</th>\n",
       "      <td>0.699512</td>\n",
       "      <td>0.233477</td>\n",
       "      <td>6.323233</td>\n",
       "    </tr>\n",
       "    <tr>\n",
       "      <th>KNNBaseline</th>\n",
       "      <td>0.706305</td>\n",
       "      <td>0.226879</td>\n",
       "      <td>6.256170</td>\n",
       "    </tr>\n",
       "    <tr>\n",
       "      <th>KNNBasic</th>\n",
       "      <td>0.708310</td>\n",
       "      <td>0.132775</td>\n",
       "      <td>5.342052</td>\n",
       "    </tr>\n",
       "  </tbody>\n",
       "</table>\n",
       "</div>"
      ],
      "text/plain": [
       "                 test_fcp  fit_time  test_time\n",
       "Algorithm                                     \n",
       "NormalPredictor  0.495384  0.076016   0.323385\n",
       "BaselineOnly     0.697808  0.115278   0.260968\n",
       "KNNWithMeans     0.699110  0.170135   6.218919\n",
       "KNNWithZScore    0.699512  0.233477   6.323233\n",
       "KNNBaseline      0.706305  0.226879   6.256170\n",
       "KNNBasic         0.708310  0.132775   5.342052"
      ]
     },
     "execution_count": 29,
     "metadata": {},
     "output_type": "execute_result"
    }
   ],
   "source": [
    "pd.DataFrame(benchmark).set_index('Algorithm').sort_values('test_fcp')"
   ]
  },
  {
   "cell_type": "code",
   "execution_count": null,
   "metadata": {},
   "outputs": [],
   "source": []
  }
 ],
 "metadata": {
  "kernelspec": {
   "display_name": "Python 3",
   "language": "python",
   "name": "python3"
  },
  "language_info": {
   "codemirror_mode": {
    "name": "ipython",
    "version": 3
   },
   "file_extension": ".py",
   "mimetype": "text/x-python",
   "name": "python",
   "nbconvert_exporter": "python",
   "pygments_lexer": "ipython3",
   "version": "3.7.3"
  },
  "latex_envs": {
   "LaTeX_envs_menu_present": true,
   "autoclose": false,
   "autocomplete": true,
   "bibliofile": "biblio.bib",
   "cite_by": "apalike",
   "current_citInitial": 1,
   "eqLabelWithNumbers": true,
   "eqNumInitial": 1,
   "hotkeys": {
    "equation": "Ctrl-E",
    "itemize": "Ctrl-I"
   },
   "labels_anchors": false,
   "latex_user_defs": false,
   "report_style_numbering": false,
   "user_envs_cfg": false
  }
 },
 "nbformat": 4,
 "nbformat_minor": 2
}
